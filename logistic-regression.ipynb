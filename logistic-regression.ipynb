{
 "cells": [
  {
   "cell_type": "code",
   "execution_count": 2,
   "metadata": {
    "collapsed": true
   },
   "outputs": [],
   "source": [
    "from __future__ import division\n",
    "%matplotlib inline\n",
    "import matplotlib.pyplot as plt\n",
    "import numpy as np\n",
    "from sklearn.datasets.samples_generator import make_classification, make_regression\n",
    "from sklearn.metrics import classification_report, accuracy_score\n",
    "from sklearn import linear_model"
   ]
  },
  {
   "cell_type": "code",
   "execution_count": 37,
   "metadata": {
    "collapsed": false
   },
   "outputs": [
    {
     "data": {
      "image/png": "[encoded data removed]",
      "text/plain": [
       "<matplotlib.figure.Figure at 0x106dd4350>"
      ]
     },
     "metadata": {},
     "output_type": "display_data"
    }
   ],
   "source": [
    "# randomly generate a regression sample dataset\n",
    "X, y = make_classification(n_features=2, n_redundant=0, n_informative=2,\n",
    "                           random_state=1, n_clusters_per_class=1) \n",
    "\n",
    "class0 = np.where(y==0)[0]\n",
    "class1 = np.where(y==1)[0]\n",
    "\n",
    "plt.scatter(X[class0, 0], X[class0, 1], c='r')\n",
    "plt.scatter(X[class1, 0], X[class1, 1], c='b')\n",
    "plt.show()"
   ]
  },
  {
   "cell_type": "code",
   "execution_count": 47,
   "metadata": {
    "collapsed": true
   },
   "outputs": [],
   "source": [
    "def sigmoid(x):\n",
    "    return 1 / (1 + np.exp(-x))\n",
    "\n",
    "def cost(theta, X, y):\n",
    "    m = len(X)\n",
    "    h = sigmoid(np.dot(X, theta)) \n",
    "    loss = (-y * np.log(h) - (1 - y) * np.log(1 - h)).mean()\n",
    "    return loss\n",
    "\n",
    "def grad(theta, X, y):\n",
    "    h = sigmoid(np.dot(X, theta))\n",
    "    grad = np.dot(h - y, X) / y.size\n",
    "    return grad\n",
    "\n",
    "def predict(theta, X):\n",
    "    h = sigmoid(np.dot(X, theta))\n",
    "    return h > 0.5\n",
    "\n",
    "def predict_proba(theta, x):\n",
    "    return sigmoid(theta[0] + x.dot(theta[1:].T))"
   ]
  },
  {
   "cell_type": "code",
   "execution_count": 39,
   "metadata": {
    "collapsed": false
   },
   "outputs": [
    {
     "name": "stdout",
     "output_type": "stream",
     "text": [
      "[ 0.97927563  0.69748498  0.46332155]\n"
     ]
    }
   ],
   "source": [
    "alpha = 0.01\n",
    "a = np.ones(shape=(len(X), 1))  \n",
    "x_ = np.hstack((a, X))\n",
    "theta = np.random.rand(x_.shape[1])\n",
    "print theta"
   ]
  },
  {
   "cell_type": "code",
   "execution_count": 40,
   "metadata": {
    "collapsed": false
   },
   "outputs": [
    {
     "name": "stdout",
     "output_type": "stream",
     "text": [
      "0.667732388136\n"
     ]
    }
   ],
   "source": [
    "loss = cost(theta, x_, y)\n",
    "print loss"
   ]
  },
  {
   "cell_type": "code",
   "execution_count": 41,
   "metadata": {
    "collapsed": false
   },
   "outputs": [
    {
     "name": "stdout",
     "output_type": "stream",
     "text": [
      "[ 0.2803143  -0.35443529  0.36326429]\n"
     ]
    }
   ],
   "source": [
    "gradient = grad(theta, x_, y)\n",
    "print gradient"
   ]
  },
  {
   "cell_type": "code",
   "execution_count": 42,
   "metadata": {
    "collapsed": false
   },
   "outputs": [
    {
     "name": "stdout",
     "output_type": "stream",
     "text": [
      "[ 0.97647249  0.70102934  0.45968891]\n"
     ]
    }
   ],
   "source": [
    "theta = theta - alpha * gradient\n",
    "print theta"
   ]
  },
  {
   "cell_type": "code",
   "execution_count": 43,
   "metadata": {
    "collapsed": false
   },
   "outputs": [
    {
     "name": "stdout",
     "output_type": "stream",
     "text": [
      "0.664376357972\n"
     ]
    }
   ],
   "source": [
    "loss1 = cost(theta, x_, y)\n",
    "print loss1"
   ]
  },
  {
   "cell_type": "code",
   "execution_count": 44,
   "metadata": {
    "collapsed": true
   },
   "outputs": [],
   "source": [
    "def gradient_descent(x, y, alpha=0.01, iterations=1000, stop=0.0001):\n",
    "    m = len(x)\n",
    "    \n",
    "    gradient = []\n",
    "    \n",
    "    a = np.ones(shape=(len(x), 1))  \n",
    "    x_ = np.hstack((a, x))\n",
    "    theta = np.random.rand(x_.shape[1])\n",
    "    initial_loss = cost(theta, x_, y)\n",
    "    \n",
    "    for n in xrange(iterations):    \n",
    "        g = grad(theta, x_, y)\n",
    "        theta = theta - alpha * g\n",
    "        loss = cost(theta, x_, y)\n",
    "        \n",
    "        if np.abs(initial_loss - loss) <= stop:\n",
    "            print 'converged with {} iterations'.format(n)\n",
    "            return theta, gradient\n",
    "        \n",
    "        initial_loss = loss\n",
    "        gradient.append([n, initial_loss])\n",
    "        \n",
    "    print 'max iterations reached'\n",
    "    return theta, gradient"
   ]
  },
  {
   "cell_type": "code",
   "execution_count": 45,
   "metadata": {
    "collapsed": false
   },
   "outputs": [
    {
     "name": "stdout",
     "output_type": "stream",
     "text": [
      "converged with 812 iterations\n",
      "[ 0.35332475  2.17524718 -0.39019274]\n"
     ]
    }
   ],
   "source": [
    "theta, gradient = gradient_descent(X, y)\n",
    "print theta"
   ]
  },
  {
   "cell_type": "code",
   "execution_count": 46,
   "metadata": {
    "collapsed": false
   },
   "outputs": [
    {
     "name": "stdout",
     "output_type": "stream",
     "text": [
      "Accuracy: 100.00%\n",
      "             precision    recall  f1-score   support\n",
      "\n",
      "          0       1.00      1.00      1.00        50\n",
      "          1       1.00      1.00      1.00        50\n",
      "\n",
      "avg / total       1.00      1.00      1.00       100\n",
      "\n"
     ]
    }
   ],
   "source": [
    "y_true = y\n",
    "y_pred = predict(theta, x_)\n",
    "\n",
    "print 'Accuracy: {:.2f}%'.format(100 * accuracy_score(y_true, y_pred))\n",
    "print classification_report(y_true, y_pred)"
   ]
  },
  {
   "cell_type": "code",
   "execution_count": 48,
   "metadata": {
    "collapsed": false
   },
   "outputs": [
    {
     "data": {
      "image/png": "[encoded data removed]",
      "text/plain": [
       "<matplotlib.figure.Figure at 0x106d96c10>"
      ]
     },
     "metadata": {},
     "output_type": "display_data"
    }
   ],
   "source": [
    "xx, yy = np.mgrid[-5:5:.01, -5:5:.01]\n",
    "grid = np.c_[xx.ravel(), yy.ravel()]\n",
    "probs = predict_proba(theta, grid).reshape(xx.shape)\n",
    "\n",
    "f, ax = plt.subplots(figsize=(8, 6))\n",
    "contour = ax.contourf(xx, yy, probs, 25, cmap=\"RdBu\",\n",
    "                      vmin=0, vmax=1)\n",
    "ax_c = f.colorbar(contour)\n",
    "ax_c.set_label(\"$P(y = 1)$\")\n",
    "ax_c.set_ticks([0, .25, .5, .75, 1])\n",
    "\n",
    "ax.scatter(X[class0, 0], X[class0, 1], c='r')\n",
    "ax.scatter(X[class1, 0], X[class1, 1], c='b')\n",
    "plt.show()"
   ]
  },
  {
   "cell_type": "code",
   "execution_count": null,
   "metadata": {
    "collapsed": true
   },
   "outputs": [],
   "source": []
  }
 ],
 "metadata": {
  "kernelspec": {
   "display_name": "Python 2",
   "language": "python",
   "name": "python2"
  },
  "language_info": {
   "codemirror_mode": {
    "name": "ipython",
    "version": 2
   },
   "file_extension": ".py",
   "mimetype": "text/x-python",
   "name": "python",
   "nbconvert_exporter": "python",
   "pygments_lexer": "ipython2",
   "version": "2.7.10"
  }
 },
 "nbformat": 4,
 "nbformat_minor": 0
}
