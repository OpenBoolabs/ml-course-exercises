{
 "cells": [
  {
   "cell_type": "code",
   "execution_count": 1,
   "metadata": {
    "collapsed": true
   },
   "outputs": [],
   "source": [
    "from __future__ import division\n",
    "%matplotlib inline\n",
    "import matplotlib.pyplot as plt\n",
    "import numpy as np\n",
    "from sklearn.datasets.samples_generator import make_classification, make_regression\n",
    "from sklearn.metrics import classification_report, accuracy_score\n",
    "from sklearn import linear_model\n",
    "import scipy.optimize as opt"
   ]
  },
  {
   "cell_type": "code",
   "execution_count": 2,
   "metadata": {
    "collapsed": false
   },
   "outputs": [
    {
     "data": {
      "image/png": "[encoded data removed]",
      "text/plain": [
       "<matplotlib.figure.Figure at 0x10b93be50>"
      ]
     },
     "metadata": {},
     "output_type": "display_data"
    }
   ],
   "source": [
    "# randomly generate a regression sample dataset\n",
    "X, y = make_classification(n_features=2, n_redundant=0, n_informative=2,\n",
    "                           random_state=1, n_clusters_per_class=1) \n",
    "\n",
    "class0 = np.where(y==0)[0]\n",
    "class1 = np.where(y==1)[0]\n",
    "\n",
    "plt.scatter(X[class0, 0], X[class0, 1], c='r')\n",
    "plt.scatter(X[class1, 0], X[class1, 1], c='b')\n",
    "plt.show()"
   ]
  },
  {
   "cell_type": "code",
   "execution_count": 3,
   "metadata": {
    "collapsed": true
   },
   "outputs": [],
   "source": [
    "def sigmoid(x):\n",
    "    return 1 / (1 + np.exp(-x))\n",
    "\n",
    "def cost(theta, X, y):\n",
    "    m = len(X)\n",
    "    h = sigmoid(np.dot(X, theta)) \n",
    "    loss = ((-y * np.log(h) - (1 - y) * np.log(1 - h + 1e-15)) * X.T).sum()\n",
    "    return loss / m\n",
    "\n",
    "def regu_cost(theta, X, y, regu=0.1):\n",
    "    m = len(X)\n",
    "    h = sigmoid(np.dot(X, theta)) \n",
    "    loss = (-y * np.log(h) - (1 - y) * np.log(1 - h+1e-15) * X.T)\n",
    "    return (loss.T + ((regu / m) * theta)).sum() / m\n",
    "\n",
    "def grad(theta, X, y):\n",
    "    h = sigmoid(np.dot(X, theta))\n",
    "    grad = np.dot(h - y, X) / y.size\n",
    "    return grad\n",
    "\n",
    "def predict(theta, X):\n",
    "#     h = sigmoid(np.dot(X, theta))\n",
    "    h = sigmoid(theta[0] + X.dot(theta[1:].T))\n",
    "    return h > 0.5\n",
    "\n",
    "def predict_proba(theta, x):\n",
    "    return sigmoid(theta[0] + x.dot(theta[1:].T))"
   ]
  },
  {
   "cell_type": "code",
   "execution_count": 4,
   "metadata": {
    "collapsed": true
   },
   "outputs": [],
   "source": [
    "def gradient_descent(x, y, alpha=0.01, iterations=1000, stop=0.0001):\n",
    "    m = len(x)\n",
    "    \n",
    "    gradient = []\n",
    "    \n",
    "    a = np.ones(shape=(len(x), 1))  \n",
    "    x_ = np.hstack((a, x))\n",
    "    theta = np.random.rand(x_.shape[1])\n",
    "    initial_loss = cost(theta, x_, y)\n",
    "    \n",
    "    for n in xrange(iterations):    \n",
    "        g = grad(theta, x_, y)\n",
    "        theta = theta - alpha * g\n",
    "        loss = regu_cost(theta, x_, y)\n",
    "        \n",
    "        if np.abs(initial_loss - loss) <= stop:\n",
    "            print 'converged with {} iterations'.format(n)\n",
    "            return theta, gradient\n",
    "        \n",
    "        initial_loss = loss\n",
    "        gradient.append([n, initial_loss])\n",
    "        \n",
    "    print 'max iterations reached'\n",
    "    return theta, gradient"
   ]
  },
  {
   "cell_type": "code",
   "execution_count": 5,
   "metadata": {
    "collapsed": false
   },
   "outputs": [
    {
     "name": "stdout",
     "output_type": "stream",
     "text": [
      "max iterations reached\n",
      "[ 0.05313207  2.31455153 -0.21709776]\n"
     ]
    }
   ],
   "source": [
    "theta, gradient = gradient_descent(X, y)\n",
    "print theta"
   ]
  },
  {
   "cell_type": "code",
   "execution_count": 6,
   "metadata": {
    "collapsed": false
   },
   "outputs": [
    {
     "name": "stdout",
     "output_type": "stream",
     "text": [
      "Accuracy: 100.00%\n",
      "             precision    recall  f1-score   support\n",
      "\n",
      "          0       1.00      1.00      1.00        50\n",
      "          1       1.00      1.00      1.00        50\n",
      "\n",
      "avg / total       1.00      1.00      1.00       100\n",
      "\n"
     ]
    }
   ],
   "source": [
    "y_true = y\n",
    "y_pred = predict(theta, X)\n",
    "\n",
    "print 'Accuracy: {:.2f}%'.format(100 * accuracy_score(y_true, y_pred))\n",
    "print classification_report(y_true, y_pred)"
   ]
  },
  {
   "cell_type": "code",
   "execution_count": 7,
   "metadata": {
    "collapsed": false
   },
   "outputs": [
    {
     "data": {
      "image/png": "[encoded data removed]",
      "text/plain": [
       "<matplotlib.figure.Figure at 0x10be54850>"
      ]
     },
     "metadata": {},
     "output_type": "display_data"
    }
   ],
   "source": [
    "xx, yy = np.mgrid[-5:5:.01, -5:5:.01]\n",
    "grid = np.c_[xx.ravel(), yy.ravel()]\n",
    "probs = predict_proba(theta, grid).reshape(xx.shape)\n",
    "\n",
    "f, ax = plt.subplots(figsize=(8, 6))\n",
    "contour = ax.contourf(xx, yy, probs, 25, cmap=\"RdBu\",\n",
    "                      vmin=0, vmax=1)\n",
    "ax_c = f.colorbar(contour)\n",
    "ax_c.set_label(\"$P(y = 1)$\")\n",
    "ax_c.set_ticks([0, .25, .5, .75, 1])\n",
    "\n",
    "ax.scatter(X[class0, 0], X[class0, 1], c='r')\n",
    "ax.scatter(X[class1, 0], X[class1, 1], c='b')\n",
    "plt.show()"
   ]
  },
  {
   "cell_type": "code",
   "execution_count": 8,
   "metadata": {
    "collapsed": true
   },
   "outputs": [],
   "source": [
    "from sklearn import datasets"
   ]
  },
  {
   "cell_type": "code",
   "execution_count": 9,
   "metadata": {
    "collapsed": false
   },
   "outputs": [
    {
     "name": "stdout",
     "output_type": "stream",
     "text": [
      "(1797, 64) (1797,) [0 1 2 3 4 5 6 7 8 9]\n"
     ]
    }
   ],
   "source": [
    "digits = datasets.load_digits()\n",
    "X_digits = digits.data\n",
    "y_digits = digits.target\n",
    "\n",
    "print X_digits.shape, y_digits.shape, np.unique(y_digits)"
   ]
  },
  {
   "cell_type": "code",
   "execution_count": 10,
   "metadata": {
    "collapsed": false
   },
   "outputs": [
    {
     "name": "stdout",
     "output_type": "stream",
     "text": [
      "[0 1]\n",
      "Counter({1: 1619, 0: 178})\n"
     ]
    }
   ],
   "source": [
    "y_cleaned = np.array([yy if yy == 0 else 1 for yy in y_digits])\n",
    "print np.unique(y_cleaned)\n",
    "import collections\n",
    "print collections.Counter(y_cleaned)"
   ]
  },
  {
   "cell_type": "code",
   "execution_count": 11,
   "metadata": {
    "collapsed": false
   },
   "outputs": [
    {
     "name": "stdout",
     "output_type": "stream",
     "text": [
      "converged with 1 iterations\n"
     ]
    },
    {
     "data": {
      "image/png": "[encoded data removed]",
      "text/plain": [
       "<matplotlib.figure.Figure at 0x113d18f50>"
      ]
     },
     "metadata": {},
     "output_type": "display_data"
    }
   ],
   "source": [
    "digits_theta, digits_gradient = gradient_descent(X_digits, y_cleaned, iterations=1000)\n",
    "\n",
    "x_axes, y_axes = zip(*gradient)\n",
    "plt.plot(x_axes, [ax for ax in y_axes])\n",
    "plt.show()"
   ]
  },
  {
   "cell_type": "code",
   "execution_count": 12,
   "metadata": {
    "collapsed": false
   },
   "outputs": [
    {
     "name": "stdout",
     "output_type": "stream",
     "text": [
      "Warning: Desired error not necessarily achieved due to precision loss.\n",
      "         Current function value: 1131.250283\n",
      "         Iterations: 0\n",
      "         Function evaluations: 17\n",
      "         Gradient evaluations: 5\n"
     ]
    }
   ],
   "source": [
    "opt_digits_theta = np.random.randn(X_digits.shape[1] + 1)\n",
    "X_1_digits = np.append(np.ones((X_digits.shape[0], 1)), X_digits, axis=1)\n",
    "\n",
    "opt_theta = opt.fmin_bfgs(cost, opt_digits_theta, fprime=grad, args=(X_1_digits, y_cleaned))"
   ]
  },
  {
   "cell_type": "code",
   "execution_count": 13,
   "metadata": {
    "collapsed": false
   },
   "outputs": [
    {
     "name": "stdout",
     "output_type": "stream",
     "text": [
      "Accuracy: 90.09%\n",
      "             precision    recall  f1-score   support\n",
      "\n",
      "          0       0.00      0.00      0.00       178\n",
      "          1       0.90      1.00      0.95      1619\n",
      "\n",
      "avg / total       0.81      0.90      0.85      1797\n",
      "\n"
     ]
    },
    {
     "name": "stderr",
     "output_type": "stream",
     "text": [
      "/Users/danilonunes/.virtualenvs/dns/lib/python2.7/site-packages/sklearn/metrics/classification.py:1074: UndefinedMetricWarning: Precision and F-score are ill-defined and being set to 0.0 in labels with no predicted samples.\n",
      "  'precision', 'predicted', average, warn_for)\n"
     ]
    }
   ],
   "source": [
    "y_true = y_cleaned\n",
    "y_pred = predict(digits_theta, X_digits)\n",
    "\n",
    "print 'Accuracy: {:.2f}%'.format(100 * accuracy_score(y_true, y_pred))\n",
    "print classification_report(y_true, y_pred)"
   ]
  },
  {
   "cell_type": "code",
   "execution_count": null,
   "metadata": {
    "collapsed": true
   },
   "outputs": [],
   "source": []
  }
 ],
 "metadata": {
  "kernelspec": {
   "display_name": "Python 2",
   "language": "python",
   "name": "python2"
  },
  "language_info": {
   "codemirror_mode": {
    "name": "ipython",
    "version": 2
   },
   "file_extension": ".py",
   "mimetype": "text/x-python",
   "name": "python",
   "nbconvert_exporter": "python",
   "pygments_lexer": "ipython2",
   "version": "2.7.10"
  }
 },
 "nbformat": 4,
 "nbformat_minor": 0
}
