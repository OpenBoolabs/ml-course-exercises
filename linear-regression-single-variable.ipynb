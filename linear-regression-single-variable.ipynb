{
 "cells": [
  {
   "cell_type": "code",
   "execution_count": 1,
   "metadata": {
    "collapsed": true
   },
   "outputs": [],
   "source": [
    "from __future__ import division\n",
    "%matplotlib inline "
   ]
  },
  {
   "cell_type": "code",
   "execution_count": 2,
   "metadata": {
    "collapsed": false
   },
   "outputs": [],
   "source": [
    "import matplotlib.pyplot as plt\n",
    "from mpl_toolkits.mplot3d import Axes3D\n",
    "import numpy as np\n",
    "from sklearn.datasets.samples_generator import make_regression"
   ]
  },
  {
   "cell_type": "code",
   "execution_count": 3,
   "metadata": {
    "collapsed": false
   },
   "outputs": [
    {
     "data": {
      "image/png": "[encoded data removed]",
      "text/plain": [
       "<matplotlib.figure.Figure at 0x10789f450>"
      ]
     },
     "metadata": {},
     "output_type": "display_data"
    }
   ],
   "source": [
    "# randomly generate a regression sample dataset\n",
    "x, y = make_regression(n_samples=100, n_features=1, n_informative=1, random_state=0, noise=35) \n",
    "plt.scatter(x, y)\n",
    "plt.show()"
   ]
  },
  {
   "cell_type": "code",
   "execution_count": 5,
   "metadata": {
    "collapsed": true
   },
   "outputs": [],
   "source": [
    "def gradient_descent(x, y, alpha=0.01, iterations=1000, stop=0.0001):\n",
    "    theta0 = np.random.rand()\n",
    "    theta1 = np.random.rand()\n",
    "    m = len(x)\n",
    "    \n",
    "    initial_loss = sum([(theta0 + (theta1 * x[i]) - y[i])**2 for i in xrange(m)])\n",
    "    \n",
    "    for n in xrange(iterations):    \n",
    "        g0 = (1/m) * sum([(theta0 + theta1 * x[i] - y[i]) for i in xrange(m)])\n",
    "        g1 = (1/m) * sum([(theta0 + theta1 * x[i] - y[i]) * x[i] for i in xrange(m)])\n",
    "        \n",
    "        theta0 = theta0 - alpha * g0\n",
    "        theta1 = theta1 - alpha * g1\n",
    "        \n",
    "        loss = sum([(theta0 + theta1 * x[i] - y[i])**2 for i in xrange(m)])\n",
    "        \n",
    "        if abs(initial_loss - loss) <= stop:\n",
    "            return theta0, theta1\n",
    "        \n",
    "        if n % 100 == 0:\n",
    "            print 'theta0 {}, theta1 {}, loss{} '.format(theta0, theta1, loss)\n",
    "        \n",
    "        inital_loss = loss\n",
    "    \n",
    "    print 'max iterations'\n",
    "    return theta0, theta1"
   ]
  },
  {
   "cell_type": "code",
   "execution_count": 6,
   "metadata": {
    "collapsed": false
   },
   "outputs": [
    {
     "name": "stdout",
     "output_type": "stream",
     "text": [
      "theta0 [ 0.17162412], theta1 [ 1.11720274], loss[ 319820.78642206] \n",
      "theta0 [-0.81953694], theta1 [ 28.00436316], loss[ 163455.03006961] \n",
      "theta0 [-1.77215182], theta1 [ 37.69417927], loss[ 143000.14386947] \n",
      "theta0 [-2.33379442], theta1 [ 41.19932193], loss[ 140284.07978614] \n",
      "theta0 [-2.61654955], theta1 [ 42.47200973], loss[ 139918.11901065] \n",
      "theta0 [-2.74812076], theta1 [ 42.93583926], loss[ 139868.11906699] \n",
      "theta0 [-2.80653024], theta1 [ 43.10550636], loss[ 139861.19928576] \n",
      "theta0 [-2.83166622], theta1 [ 43.16779523], loss[ 139860.2304422] \n",
      "theta0 [-2.84224824], theta1 [ 43.19074389], loss[ 139860.09340009] \n",
      "theta0 [-2.84663141], theta1 [ 43.19922765], loss[ 139860.0738438] \n",
      "max iterations\n",
      "y = -2.85 + 43.20x\n"
     ]
    }
   ],
   "source": [
    "theta0, theta1 = gradient_descent(x, y)\n",
    "print 'y = {:.2f} + {:.2f}x'.format(theta0[0], theta1[0])"
   ]
  },
  {
   "cell_type": "code",
   "execution_count": 7,
   "metadata": {
    "collapsed": false
   },
   "outputs": [
    {
     "name": "stdout",
     "output_type": "stream",
     "text": [
      "y = -2.85 + 43.20x\n"
     ]
    }
   ],
   "source": [
    "# sklearn check\n",
    "from sklearn import linear_model\n",
    "regr = linear_model.LinearRegression()\n",
    "regr.fit(x, y)\n",
    "\n",
    "print 'y = {:.2f} + {:.2f}x'.format(regr.intercept_, regr.coef_[0])"
   ]
  },
  {
   "cell_type": "code",
   "execution_count": 8,
   "metadata": {
    "collapsed": false
   },
   "outputs": [
    {
     "data": {
      "text/plain": [
       "0.57550620491972371"
      ]
     },
     "execution_count": 8,
     "metadata": {},
     "output_type": "execute_result"
    }
   ],
   "source": [
    "regr.score(x, y)"
   ]
  },
  {
   "cell_type": "code",
   "execution_count": 9,
   "metadata": {
    "collapsed": false
   },
   "outputs": [
    {
     "data": {
      "image/png": "[encoded data removed]",
      "text/plain": [
       "<matplotlib.figure.Figure at 0x109657dd0>"
      ]
     },
     "metadata": {},
     "output_type": "display_data"
    }
   ],
   "source": [
    "plt.scatter(x, y)\n",
    "plt.plot(x, theta0 + theta1*x, 'r-')\n",
    "plt.show()"
   ]
  },
  {
   "cell_type": "code",
   "execution_count": 10,
   "metadata": {
    "collapsed": true
   },
   "outputs": [],
   "source": [
    "def mean_squared_error(x, y, t0=0.0, t1=0.0):\n",
    "    m = len(x)  # number of samples\n",
    "    return sum([(t0 + t1*x[i] - y[i])**2 for i in range(m)]) / (2 * m)"
   ]
  },
  {
   "cell_type": "code",
   "execution_count": 11,
   "metadata": {
    "collapsed": false
   },
   "outputs": [
    {
     "data": {
      "image/png": "[encoded data removed]",
      "text/plain": [
       "<matplotlib.figure.Figure at 0x109690ed0>"
      ]
     },
     "metadata": {},
     "output_type": "display_data"
    }
   ],
   "source": [
    "xx = np.linspace(-100, 100, 1000)   #\n",
    "loss_ = np.array([mean_squared_error(x, y, t1=i) for i in xx])\n",
    "\n",
    "plt.plot(xx, loss_, '-r')\n",
    "for point in [1, 28, 37, 41]:\n",
    "    plt.plot(point, mean_squared_error(x, y, t1=point), 'xb')\n",
    "    \n",
    "plt.plot(43.20, mean_squared_error(x, y, t1=43.20), 'oy')\n",
    "plt.show()"
   ]
  },
  {
   "cell_type": "code",
   "execution_count": 113,
   "metadata": {
    "collapsed": true
   },
   "outputs": [],
   "source": [
    "def compute_gradient_n(x, y, alpha=0.01, iterations=1000, stop=0.0001):\n",
    "    m = len(x)\n",
    "    \n",
    "    gradient = []\n",
    "    \n",
    "    a = np.ones(shape=(len(x), 1))  \n",
    "    x_ = np.hstack((a, x))\n",
    "    theta = np.random.rand(x_.shape[1])\n",
    "    initial_loss = np.sum((np.sum(theta * x_, axis=1) - y) ** 2)\n",
    "    \n",
    "    for n in xrange(iterations):    \n",
    "        g = (1/m) * ((np.sum(theta * x_, axis=1) - y) * x_.T).sum(axis=1)\n",
    "#         if n % 100 == 0:\n",
    "#             print 'n: {}, theta: {}'.format(n, theta)\n",
    "        \n",
    "        \n",
    "        theta = theta - alpha * g\n",
    "        loss = np.sum((np.sum(theta * x_, axis=1) - y) ** 2)\n",
    "        \n",
    "        if np.abs(initial_loss - loss) <= stop:\n",
    "            print 'converged with {} iterations'.format(n)\n",
    "            return theta, gradient\n",
    "        \n",
    "        initial_loss = loss\n",
    "        gradient.append([n, initial_loss])\n",
    "        \n",
    "    print 'max iterations reached'\n",
    "    return theta, gradient"
   ]
  },
  {
   "cell_type": "code",
   "execution_count": 139,
   "metadata": {
    "collapsed": false
   },
   "outputs": [
    {
     "name": "stdout",
     "output_type": "stream",
     "text": [
      "converged with 20 iterations\n",
      "[ -7.25803507e+00   4.61920786e+01  -2.92508201e-02  -8.34413812e+00\n",
      "   2.06912901e+00  -2.40186320e+00]\n"
     ]
    }
   ],
   "source": [
    "theta, gradient = compute_gradient_n(x, y, iterations=2000, alpha=0.5)\n",
    "print theta"
   ]
  },
  {
   "cell_type": "code",
   "execution_count": 140,
   "metadata": {
    "collapsed": false
   },
   "outputs": [
    {
     "data": {
      "image/png": "[encoded data removed]",
      "text/plain": [
       "<matplotlib.figure.Figure at 0x10aa14990>"
      ]
     },
     "metadata": {},
     "output_type": "display_data"
    }
   ],
   "source": [
    "x_axes, y_axes = zip(*gradient)\n",
    "plt.plot(x_axes, [ax for ax in y_axes])\n",
    "plt.show()"
   ]
  },
  {
   "cell_type": "code",
   "execution_count": 142,
   "metadata": {
    "collapsed": false
   },
   "outputs": [
    {
     "name": "stdout",
     "output_type": "stream",
     "text": [
      "-7.25844788765 [  4.61922854e+01  -2.95938536e-02  -8.34444230e+00   2.06984007e+00\n",
      "  -2.40198344e+00]\n"
     ]
    }
   ],
   "source": [
    "from sklearn import linear_model\n",
    "regr = linear_model.LinearRegression()\n",
    "regr.fit(x, y)\n",
    "\n",
    "print '{} {}'.format(regr.intercept_, regr.coef_)"
   ]
  },
  {
   "cell_type": "code",
   "execution_count": null,
   "metadata": {
    "collapsed": true
   },
   "outputs": [],
   "source": []
  }
 ],
 "metadata": {
  "kernelspec": {
   "display_name": "Python 2",
   "language": "python",
   "name": "python2"
  },
  "language_info": {
   "codemirror_mode": {
    "name": "ipython",
    "version": 2
   },
   "file_extension": ".py",
   "mimetype": "text/x-python",
   "name": "python",
   "nbconvert_exporter": "python",
   "pygments_lexer": "ipython2",
   "version": "2.7.10"
  }
 },
 "nbformat": 4,
 "nbformat_minor": 0
}
